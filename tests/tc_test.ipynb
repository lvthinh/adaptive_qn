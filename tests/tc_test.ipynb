{
 "cells": [
  {
   "cell_type": "code",
   "execution_count": 2,
   "metadata": {
    "collapsed": true
   },
   "outputs": [],
   "source": [
    "import tensorcircuit as tc\n",
    "import jax.numpy as np\n",
    "import optax\n",
    "from tensorcircuit . experimental import qng\n",
    "from functools import partial"
   ]
  },
  {
   "cell_type": "code",
   "execution_count": 3,
   "metadata": {
    "collapsed": false
   },
   "outputs": [
    {
     "data": {
      "text/plain": [
       "functools.partial(<function custom at 0x0000019162282FC0>, optimizer=<function auto at 0x000001917FDDF4C0>, memory_limit=None, debug_level=0)"
      ]
     },
     "execution_count": 3,
     "metadata": {},
     "output_type": "execute_result"
    }
   ],
   "source": [
    "backend = tc.set_backend(\"jax\")\n",
    "tc.set_dtype(\"complex128\")\n",
    "tc.set_contractor(\"auto\")  # “auto”, “greedy”, “branch”, “plain”, “tng”, “custom”"
   ]
  },
  {
   "cell_type": "code",
   "execution_count": 6,
   "metadata": {
    "collapsed": false
   },
   "outputs": [
    {
     "ename": "UnboundLocalError",
     "evalue": "cannot access local variable 'dtyper' where it is not associated with a value",
     "output_type": "error",
     "traceback": [
      "\u001b[1;31m---------------------------------------------------------------------------\u001b[0m",
      "\u001b[1;31mUnboundLocalError\u001b[0m                         Traceback (most recent call last)",
      "Cell \u001b[1;32mIn[6], line 4\u001b[0m\n\u001b[0;32m      2\u001b[0m k \u001b[38;5;241m=\u001b[39m \u001b[38;5;241m3\u001b[39m\n\u001b[0;32m      3\u001b[0m \u001b[38;5;66;03m#\u001b[39;00m\n\u001b[1;32m----> 4\u001b[0m params \u001b[38;5;241m=\u001b[39m \u001b[43mbackend\u001b[49m\u001b[38;5;241;43m.\u001b[39;49m\u001b[43mimplicit_randn\u001b[49m\u001b[43m(\u001b[49m\u001b[43m[\u001b[49m\u001b[38;5;241;43m3\u001b[39;49m\u001b[43m \u001b[49m\u001b[38;5;241;43m*\u001b[39;49m\u001b[43m \u001b[49m\u001b[43mn\u001b[49m\u001b[43m,\u001b[49m\u001b[43m \u001b[49m\u001b[43mk\u001b[49m\u001b[43m \u001b[49m\u001b[38;5;241;43m+\u001b[39;49m\u001b[43m \u001b[49m\u001b[38;5;241;43m1\u001b[39;49m\u001b[43m]\u001b[49m\u001b[43m,\u001b[49m\u001b[43m \u001b[49m\u001b[43mdtype\u001b[49m\u001b[38;5;241;43m=\u001b[39;49m\u001b[38;5;124;43m\"\u001b[39;49m\u001b[38;5;124;43mcomplex\u001b[39;49m\u001b[38;5;124;43m\"\u001b[39;49m\u001b[43m)\u001b[49m\n\u001b[0;32m      6\u001b[0m \u001b[38;5;28;01mdef\u001b[39;00m \u001b[38;5;21msensor\u001b[39m(params, phi):\n\u001b[0;32m      7\u001b[0m     p \u001b[38;5;241m=\u001b[39m \u001b[38;5;241m0.0\u001b[39m\n",
      "File \u001b[1;32mc:\\Users\\tvle2\\AppData\\Local\\anaconda3\\envs\\e2e_queso\\Lib\\site-packages\\tensorcircuit\\backends\\jax_backend.py:476\u001b[0m, in \u001b[0;36mJaxBackend.implicit_randn\u001b[1;34m(self, shape, mean, stddev, dtype)\u001b[0m\n\u001b[0;32m    474\u001b[0m     g \u001b[38;5;241m=\u001b[39m \u001b[38;5;28mgetattr\u001b[39m(\u001b[38;5;28mself\u001b[39m, \u001b[38;5;124m\"\u001b[39m\u001b[38;5;124mg\u001b[39m\u001b[38;5;124m\"\u001b[39m, \u001b[38;5;28;01mNone\u001b[39;00m)\n\u001b[0;32m    475\u001b[0m     key, subkey \u001b[38;5;241m=\u001b[39m libjax\u001b[38;5;241m.\u001b[39mrandom\u001b[38;5;241m.\u001b[39msplit(g)\n\u001b[1;32m--> 476\u001b[0m r \u001b[38;5;241m=\u001b[39m \u001b[38;5;28;43mself\u001b[39;49m\u001b[38;5;241;43m.\u001b[39;49m\u001b[43mstateful_randn\u001b[49m\u001b[43m(\u001b[49m\u001b[43msubkey\u001b[49m\u001b[43m,\u001b[49m\u001b[43m \u001b[49m\u001b[43mshape\u001b[49m\u001b[43m,\u001b[49m\u001b[43m \u001b[49m\u001b[43mmean\u001b[49m\u001b[43m,\u001b[49m\u001b[43m \u001b[49m\u001b[43mstddev\u001b[49m\u001b[43m,\u001b[49m\u001b[43m \u001b[49m\u001b[43mdtype\u001b[49m\u001b[43m)\u001b[49m\n\u001b[0;32m    477\u001b[0m \u001b[38;5;28mself\u001b[39m\u001b[38;5;241m.\u001b[39mg \u001b[38;5;241m=\u001b[39m key\n\u001b[0;32m    478\u001b[0m \u001b[38;5;28;01mreturn\u001b[39;00m r\n",
      "File \u001b[1;32mc:\\Users\\tvle2\\AppData\\Local\\anaconda3\\envs\\e2e_queso\\Lib\\site-packages\\tensorcircuit\\backends\\jax_backend.py:540\u001b[0m, in \u001b[0;36mJaxBackend.stateful_randn\u001b[1;34m(self, g, shape, mean, stddev, dtype)\u001b[0m\n\u001b[0;32m    538\u001b[0m \u001b[38;5;28;01melif\u001b[39;00m \u001b[38;5;129;01mnot\u001b[39;00m \u001b[38;5;28misinstance\u001b[39m(dtype, \u001b[38;5;28mstr\u001b[39m):\n\u001b[0;32m    539\u001b[0m     dtyper \u001b[38;5;241m=\u001b[39m dtype\n\u001b[1;32m--> 540\u001b[0m r \u001b[38;5;241m=\u001b[39m libjax\u001b[38;5;241m.\u001b[39mrandom\u001b[38;5;241m.\u001b[39mnormal(g, shape\u001b[38;5;241m=\u001b[39mshape, dtype\u001b[38;5;241m=\u001b[39m\u001b[43mdtyper\u001b[49m) \u001b[38;5;241m*\u001b[39m stddev \u001b[38;5;241m+\u001b[39m mean\n\u001b[0;32m    541\u001b[0m \u001b[38;5;28;01mreturn\u001b[39;00m r\n",
      "\u001b[1;31mUnboundLocalError\u001b[0m: cannot access local variable 'dtyper' where it is not associated with a value"
     ]
    }
   ],
   "source": [
    "n = 4\n",
    "k = 3\n",
    "#\n",
    "params = backend.implicit_randn([3 * n, k + 1], dtype=\"complex\")\n",
    "\n",
    "def sensor(params, phi):\n",
    "    p = 0.0\n",
    "    dmc = tc.Circuit(n)\n",
    "\n",
    "    params_probe = params[:, 0:-1]\n",
    "    params_measure = params[:, -1:]\n",
    "\n",
    "    # probe state\n",
    "    for layer in range(k):\n",
    "        for i in range(n):\n",
    "            dmc.r(i, theta=params_probe[i * 3, k],\n",
    "                  alpha=params_probe[i])\n",
    "        for i in range(1, n):\n",
    "            dmc.cnot(i-1, i)\n",
    "        for i in range(n):\n",
    "            dmc.depolarizing(i, px=p, py=p, pz=p)\n",
    "    dmc.h(0)\n",
    "    for i in range(1, n):\n",
    "        dmc.cnot(0, i)\n",
    "\n",
    "    # interaction\n",
    "    for i in range(n):\n",
    "        dmc.rz(i, theta = phi)\n",
    "\n",
    "    # measurement\n",
    "    for i in range(n):\n",
    "        dmc.rx(i, theta=params_measure[i * 3, 0])\n",
    "        dmc.ry(i, theta=params_measure[i * 3 + 1, 0])\n",
    "        dmc.rz(i, theta=params_measure[i * 3 + 1, 0])\n",
    "\n",
    "    return dmc.densitymatrix()\n",
    "\n",
    "\n",
    "def cfi(params, phi):\n",
    "\n",
    "    def prob(params, phi):\n",
    "        dm = sensor(params, phi)\n",
    "        return backend.real(backend.diagonal(dm))\n",
    "\n",
    "    p = prob(params, phi)\n",
    "    # dprob = backend.jit(backend.jacrev(lambda phi: prob(params=params, phi=phi)))\n",
    "    dprob = backend.jacrev(lambda phi: prob(params=params, phi=phi))\n",
    "    print(dprob(phi))\n",
    "    print(dprob(phi).squeeze())\n",
    "    fi = backend.sum((dprob(phi).squeeze()) ** 2 / p)\n",
    "    return fi\n",
    "\n",
    "\n",
    "phi = np.array([1.12314])\n",
    "# phi = backend.implicit_randn()\n",
    "print(cfi(params, phi))"
   ]
  },
  {
   "cell_type": "code",
   "execution_count": 7,
   "metadata": {
    "collapsed": false
   },
   "outputs": [
    {
     "ename": "NameError",
     "evalue": "name 'phi' is not defined",
     "output_type": "error",
     "traceback": [
      "\u001b[1;31m---------------------------------------------------------------------------\u001b[0m",
      "\u001b[1;31mNameError\u001b[0m                                 Traceback (most recent call last)",
      "Cell \u001b[1;32mIn[7], line 64\u001b[0m\n\u001b[0;32m     61\u001b[0m     fi \u001b[38;5;241m=\u001b[39m backend\u001b[38;5;241m.\u001b[39msum((dprob(phi)\u001b[38;5;241m.\u001b[39msqueeze()) \u001b[38;5;241m*\u001b[39m\u001b[38;5;241m*\u001b[39m \u001b[38;5;241m2\u001b[39m \u001b[38;5;241m/\u001b[39m p)\n\u001b[0;32m     62\u001b[0m     \u001b[38;5;28;01mreturn\u001b[39;00m fi\n\u001b[1;32m---> 64\u001b[0m \u001b[38;5;28mprint\u001b[39m(backend\u001b[38;5;241m.\u001b[39msum(backend\u001b[38;5;241m.\u001b[39mabs(sensor(params, \u001b[43mphi\u001b[49m))\u001b[38;5;241m*\u001b[39m\u001b[38;5;241m*\u001b[39m\u001b[38;5;241m2\u001b[39m))\n\u001b[0;32m     65\u001b[0m \u001b[38;5;66;03m# phi = np.array([1.12314])\u001b[39;00m\n\u001b[0;32m     66\u001b[0m \u001b[38;5;66;03m# phi = backend.implicit_randn()\u001b[39;00m\n\u001b[0;32m     67\u001b[0m \u001b[38;5;66;03m# print(cfi(params, phi))\u001b[39;00m\n",
      "\u001b[1;31mNameError\u001b[0m: name 'phi' is not defined"
     ]
    }
   ],
   "source": [
    "n = 4\n",
    "k = 3\n",
    "#\n",
    "params = backend.implicit_randn([3 * n, k + 1])\n",
    "\n",
    "def sensor(params, phi):\n",
    "    p = 0.0\n",
    "    # dmc = tc.Circuit(n)\n",
    "    dmc = tc.DMCircuit(n)\n",
    "\n",
    "    params_probe = params[:, 0:-1]\n",
    "    params_measure = params[:, -1:]\n",
    "\n",
    "    # probe state\n",
    "    for layer in range(k):\n",
    "        for i in range(n):\n",
    "            dmc.r(i,\n",
    "                  theta=params_probe[3*i, k],\n",
    "                  alpha=params_probe[3*i + 1, k],\n",
    "                  phi = params_probe[3*i + 2, k])\n",
    "        for i in range(1, n):\n",
    "            dmc.cnot(0, i)\n",
    "    #     for i in range(n):\n",
    "    #         dmc.depolarizing(i, px=p, py=p, pz=p)\n",
    "\n",
    "    # dmc.h(0)\n",
    "    # for i in range(1, n):\n",
    "    #     dmc.cnot(0, i)\n",
    "\n",
    "    # interaction\n",
    "    for i in range(n):\n",
    "        dmc.rx(i, theta = phi)\n",
    "\n",
    "    # measurement\n",
    "    for i in range(n):\n",
    "        dmc.r(i,\n",
    "              theta=params_measure[3*i, 0],\n",
    "              alpha=params_measure[3*i + 1, 0],\n",
    "              phi = params_measure[3*i + 2, 0])\n",
    "\n",
    "    #     dmc.rx(i, theta=params_measure[i * 3, 0])\n",
    "    #     dmc.ry(i, theta=params_measure[i * 3 + 1, 0])\n",
    "    #     dmc.rz(i, theta=params_measure[i * 3 + 1, 0])\n",
    "\n",
    "    return dmc.densitymatrix()\n",
    "    # return dmc.wavefunction()\n",
    "\n",
    "\n",
    "def cfi(params, phi):\n",
    "\n",
    "    def prob(params, phi):\n",
    "        dm = sensor(params, phi)\n",
    "        return backend.real(backend.diagonal(dm))\n",
    "        # return backend.real(dm)\n",
    "\n",
    "    p = prob(params, phi)\n",
    "    # dprob = backend.jit(backend.jacrev(lambda phi: prob(params=params, phi=phi)))\n",
    "    dprob = backend.jacrev(lambda phi: prob(params=params, phi=phi))\n",
    "    # print(dprob(phi))\n",
    "    # print(dprob(phi).squeeze())\n",
    "    fi = backend.sum((dprob(phi).squeeze()) ** 2 / p)\n",
    "    return fi\n",
    "\n",
    "print(backend.sum(backend.abs(sensor(params, phi))**2))\n",
    "# phi = np.array([1.12314])\n",
    "# phi = backend.implicit_randn()\n",
    "# print(cfi(params, phi))"
   ]
  },
  {
   "cell_type": "code",
   "execution_count": null,
   "metadata": {
    "collapsed": false
   },
   "outputs": [],
   "source": [
    "cfi_val_grad_jit = backend.jit(backend.value_and_grad(lambda params: -cfi(params=params, _phi=phi)))\n",
    "val, grad = cfi_val_grad_jit(params)"
   ]
  },
  {
   "cell_type": "code",
   "execution_count": null,
   "metadata": {
    "collapsed": false
   },
   "outputs": [],
   "source": [
    "opt = tc.backend.optimizer(optax.adagrad(learning_rate=0.95))\n"
   ]
  },
  {
   "cell_type": "code",
   "execution_count": null,
   "metadata": {
    "collapsed": false
   },
   "outputs": [],
   "source": [
    "params = backend.implicit_randn([3 * n, k + 1])\n",
    "\n",
    "for i in range(250):\n",
    "    val, grad = cfi_val_grad_jit(params)\n",
    "    params = opt.update(grad, params)\n",
    "    print(f\"Step {i} | CFI {val}\")\n",
    "    # print(params)"
   ]
  },
  {
   "cell_type": "code",
   "execution_count": null,
   "metadata": {
    "collapsed": false
   },
   "outputs": [],
   "source": [
    "# %timeit noisy(4)"
   ]
  },
  {
   "cell_type": "code",
   "execution_count": null,
   "metadata": {
    "collapsed": false
   },
   "outputs": [],
   "source": [
    "n = 6\n",
    "k = 4\n",
    "#\n",
    "params = backend.implicit_randn([3 * n, k]).astype(\"complex\")\n",
    "\n",
    "\n",
    "def sensor(params, phi):\n",
    "    dmc = tc.Circuit(n)\n",
    "\n",
    "    for i in range(k):\n",
    "        for j in range(n):\n",
    "            dmc.r(j, theta=params[3*j, i], alpha=params[3*j + 1, i], phi=params[3*j + 2, i])\n",
    "\n",
    "        for j in range(1, n):\n",
    "            dmc.cnot(j-1, j)\n",
    "\n",
    "    # interaction\n",
    "    for j in range(n):\n",
    "        dmc.rz(j, theta = phi)\n",
    "    return dmc\n",
    "\n",
    "phi = np.array([1.12314]).astype(\"complex\")\n",
    "params = backend.implicit_randn([3 * n, k])\n",
    "\n",
    "dmc = sensor(params, phi)\n",
    "dmc.draw(output=\"text\")\n",
    "\n",
    "\n",
    "def qfi(_params, phi):\n",
    "    psi = sensor(_params, phi).state()[:, None]\n",
    "    f_dpsi_phi = backend.jacrev(lambda phi: sensor(params=_params, phi=phi).state())\n",
    "    d_psi = f_dpsi_phi(phi)\n",
    "    fi = 4 * backend.real((backend.conj(d_psi.T) @ d_psi) + (backend.conj(d_psi.T) @ psi)**2)\n",
    "    return fi[0, 0]\n"
   ]
  },
  {
   "cell_type": "code",
   "execution_count": null,
   "metadata": {
    "collapsed": false
   },
   "outputs": [],
   "source": [
    "dmc.draw(output=\"text\")"
   ]
  },
  {
   "cell_type": "code",
   "execution_count": null,
   "metadata": {
    "collapsed": false
   },
   "outputs": [],
   "source": [
    "qfi_val_grad_jit = backend.jit(backend.value_and_grad(lambda params: -qfi(_params=params, phi=phi)))\n",
    "val, grad = qfi_val_grad_jit(params)\n",
    "print(val, grad)"
   ]
  },
  {
   "cell_type": "code",
   "execution_count": null,
   "metadata": {
    "collapsed": false
   },
   "outputs": [],
   "source": [
    "opt = tc.backend.optimizer(optax.adagrad(learning_rate=0.35))\n",
    "\n",
    "params = backend.implicit_randn([3 * n, k])\n",
    "\n",
    "for i in range(250):\n",
    "    val, grad = qfi_val_grad_jit(params)\n",
    "    # print(grad)\n",
    "    params = opt.update(grad, params)\n",
    "    print(f\"Step {i} | QFI {val}\")\n",
    "    # print(params)"
   ]
  },
  {
   "cell_type": "code",
   "execution_count": null,
   "metadata": {
    "collapsed": false
   },
   "outputs": [],
   "source": []
  },
  {
   "cell_type": "markdown",
   "metadata": {
    "collapsed": false
   },
   "source": [
    "# CFI"
   ]
  },
  {
   "cell_type": "code",
   "execution_count": 8,
   "metadata": {
    "collapsed": false
   },
   "outputs": [
    {
     "name": "stdout",
     "output_type": "stream",
     "text": [
      "1.2626261925683386\n"
     ]
    }
   ],
   "source": [
    "n = 6\n",
    "k = 4\n",
    "\n",
    "def sensor(params, phi):\n",
    "    dmc = tc.Circuit(n)\n",
    "\n",
    "    for i in range(k):\n",
    "        for j in range(n):\n",
    "            dmc.r(j, theta=params[3*j, i], alpha=params[3*j + 1, i], phi=params[3*j + 2, i])\n",
    "\n",
    "        for j in range(1, n):\n",
    "            dmc.cnot(j-1, j)\n",
    "\n",
    "    for j in range(n):\n",
    "        dmc.r(j, theta=params[3*j, i], alpha=params[3*j + 1, i], phi=params[3*j + 2, i])\n",
    "\n",
    "    # interaction\n",
    "    for j in range(n):\n",
    "        dmc.rz(j, theta = phi)\n",
    "\n",
    "    # measurement\n",
    "    for j in range(n):\n",
    "        dmc.u(j, theta = params[3*j, -1], phi=params[3*j + 1, -1])\n",
    "\n",
    "    return dmc\n",
    "\n",
    "\n",
    "phi = np.array([1.12314])\n",
    "params = backend.implicit_randn([3 * n, k+1])\n",
    "\n",
    "dmc = sensor(params, phi)\n",
    "\n",
    "def cfi(_params, _phi):\n",
    "    def probs(_params, _phi):\n",
    "        return backend.abs(sensor(_params, _phi).state())**2\n",
    "    pr = probs(_params, _phi)\n",
    "    dpr_phi = backend.jacrev(lambda _phi: probs(_params=_params, _phi=_phi))\n",
    "    d_pr = dpr_phi(phi).squeeze()\n",
    "    fim = backend.sum(d_pr * d_pr / pr)\n",
    "    return fim\n",
    "\n",
    "print(cfi(params, phi))\n"
   ]
  },
  {
   "cell_type": "code",
   "execution_count": 9,
   "metadata": {
    "collapsed": false
   },
   "outputs": [
    {
     "ename": "NameError",
     "evalue": "name 'qi' is not defined",
     "output_type": "error",
     "traceback": [
      "\u001b[1;31m---------------------------------------------------------------------------\u001b[0m",
      "\u001b[1;31mNameError\u001b[0m                                 Traceback (most recent call last)",
      "Cell \u001b[1;32mIn[9], line 1\u001b[0m\n\u001b[1;32m----> 1\u001b[0m \u001b[43mdmc\u001b[49m\u001b[38;5;241;43m.\u001b[39;49m\u001b[43mdraw\u001b[49m\u001b[43m(\u001b[49m\u001b[43moutput\u001b[49m\u001b[38;5;241;43m=\u001b[39;49m\u001b[38;5;124;43m\"\u001b[39;49m\u001b[38;5;124;43mtext\u001b[39;49m\u001b[38;5;124;43m\"\u001b[39;49m\u001b[43m)\u001b[49m\n",
      "File \u001b[1;32mc:\\Users\\tvle2\\AppData\\Local\\anaconda3\\envs\\e2e_queso\\Lib\\site-packages\\tensorcircuit\\abstractcircuit.py:846\u001b[0m, in \u001b[0;36mAbstractCircuit.draw\u001b[1;34m(self, **kws)\u001b[0m\n\u001b[0;32m    826\u001b[0m \u001b[38;5;28;01mdef\u001b[39;00m \u001b[38;5;21mdraw\u001b[39m(\u001b[38;5;28mself\u001b[39m, \u001b[38;5;241m*\u001b[39m\u001b[38;5;241m*\u001b[39mkws: Any) \u001b[38;5;241m-\u001b[39m\u001b[38;5;241m>\u001b[39m Any:\n\u001b[0;32m    827\u001b[0m \u001b[38;5;250m    \u001b[39m\u001b[38;5;124;03m\"\"\"\u001b[39;00m\n\u001b[0;32m    828\u001b[0m \u001b[38;5;124;03m    Visualise the circuit.\u001b[39;00m\n\u001b[0;32m    829\u001b[0m \u001b[38;5;124;03m    This method recevies the keywords as same as qiskit.circuit.QuantumCircuit.draw.\u001b[39;00m\n\u001b[1;32m   (...)\u001b[0m\n\u001b[0;32m    844\u001b[0m \u001b[38;5;124;03m         └───┘\u001b[39;00m\n\u001b[0;32m    845\u001b[0m \u001b[38;5;124;03m    \"\"\"\u001b[39;00m\n\u001b[1;32m--> 846\u001b[0m     \u001b[38;5;28;01mreturn\u001b[39;00m \u001b[38;5;28;43mself\u001b[39;49m\u001b[38;5;241;43m.\u001b[39;49m\u001b[43mto_qiskit\u001b[49m\u001b[43m(\u001b[49m\u001b[43menable_instruction\u001b[49m\u001b[38;5;241;43m=\u001b[39;49m\u001b[38;5;28;43;01mTrue\u001b[39;49;00m\u001b[43m)\u001b[49m\u001b[38;5;241m.\u001b[39mdraw(\u001b[38;5;241m*\u001b[39m\u001b[38;5;241m*\u001b[39mkws)\n",
      "File \u001b[1;32mc:\\Users\\tvle2\\AppData\\Local\\anaconda3\\envs\\e2e_queso\\Lib\\site-packages\\tensorcircuit\\abstractcircuit.py:770\u001b[0m, in \u001b[0;36mAbstractCircuit.to_qiskit\u001b[1;34m(self, enable_instruction, enable_inputs)\u001b[0m\n\u001b[0;32m    768\u001b[0m \u001b[38;5;28;01melse\u001b[39;00m:\n\u001b[0;32m    769\u001b[0m     initialization \u001b[38;5;241m=\u001b[39m \u001b[38;5;28;01mNone\u001b[39;00m\n\u001b[1;32m--> 770\u001b[0m \u001b[38;5;28;01mreturn\u001b[39;00m \u001b[43mqir2qiskit\u001b[49m\u001b[43m(\u001b[49m\n\u001b[0;32m    771\u001b[0m \u001b[43m    \u001b[49m\u001b[43mqir\u001b[49m\u001b[43m,\u001b[49m\n\u001b[0;32m    772\u001b[0m \u001b[43m    \u001b[49m\u001b[43mn\u001b[49m\u001b[38;5;241;43m=\u001b[39;49m\u001b[38;5;28;43mself\u001b[39;49m\u001b[38;5;241;43m.\u001b[39;49m\u001b[43m_nqubits\u001b[49m\u001b[43m,\u001b[49m\n\u001b[0;32m    773\u001b[0m \u001b[43m    \u001b[49m\u001b[43mextra_qir\u001b[49m\u001b[38;5;241;43m=\u001b[39;49m\u001b[43mextra_qir\u001b[49m\u001b[43m,\u001b[49m\n\u001b[0;32m    774\u001b[0m \u001b[43m    \u001b[49m\u001b[43minitialization\u001b[49m\u001b[38;5;241;43m=\u001b[39;49m\u001b[43minitialization\u001b[49m\u001b[43m,\u001b[49m\n\u001b[0;32m    775\u001b[0m \u001b[43m\u001b[49m\u001b[43m)\u001b[49m\n",
      "File \u001b[1;32mc:\\Users\\tvle2\\AppData\\Local\\anaconda3\\envs\\e2e_queso\\Lib\\site-packages\\tensorcircuit\\translation.py:342\u001b[0m, in \u001b[0;36mqir2qiskit\u001b[1;34m(qir, n, extra_qir, initialization)\u001b[0m\n\u001b[0;32m    337\u001b[0m \u001b[38;5;28;01melse\u001b[39;00m:  \u001b[38;5;66;03m# r cr any gate\u001b[39;00m\n\u001b[0;32m    338\u001b[0m     gatem \u001b[38;5;241m=\u001b[39m np\u001b[38;5;241m.\u001b[39mreshape(\n\u001b[0;32m    339\u001b[0m         backend\u001b[38;5;241m.\u001b[39mnumpy(gate_info[\u001b[38;5;124m\"\u001b[39m\u001b[38;5;124mgatef\u001b[39m\u001b[38;5;124m\"\u001b[39m](\u001b[38;5;241m*\u001b[39m\u001b[38;5;241m*\u001b[39mparameters)\u001b[38;5;241m.\u001b[39mtensor),\n\u001b[0;32m    340\u001b[0m         [\u001b[38;5;241m2\u001b[39m \u001b[38;5;241m*\u001b[39m\u001b[38;5;241m*\u001b[39m \u001b[38;5;28mlen\u001b[39m(index), \u001b[38;5;241m2\u001b[39m \u001b[38;5;241m*\u001b[39m\u001b[38;5;241m*\u001b[39m \u001b[38;5;28mlen\u001b[39m(index)],\n\u001b[0;32m    341\u001b[0m     )\n\u001b[1;32m--> 342\u001b[0m     qop \u001b[38;5;241m=\u001b[39m \u001b[43mqi\u001b[49m\u001b[38;5;241m.\u001b[39mOperator(gatem)\n\u001b[0;32m    343\u001b[0m     \u001b[38;5;28;01mtry\u001b[39;00m:\n\u001b[0;32m    344\u001b[0m         qiskit_circ\u001b[38;5;241m.\u001b[39munitary(qop, index[::\u001b[38;5;241m-\u001b[39m\u001b[38;5;241m1\u001b[39m], label\u001b[38;5;241m=\u001b[39mqis_name)\n",
      "\u001b[1;31mNameError\u001b[0m: name 'qi' is not defined"
     ]
    }
   ],
   "source": [
    "dmc.draw(output=\"text\")"
   ]
  },
  {
   "cell_type": "code",
   "execution_count": 10,
   "metadata": {
    "collapsed": false
   },
   "outputs": [
    {
     "name": "stdout",
     "output_type": "stream",
     "text": [
      "-1.2626261925683386 [[-1.86931849e-01 -6.63373470e-02 -7.01403320e-02  1.19775105e+00\n",
      "   1.11812487e-01]\n",
      " [ 2.45183796e-01 -1.38639748e-01  4.28640991e-01  4.04472172e-01\n",
      "  -2.77555756e-17]\n",
      " [-1.16455674e-01  2.73508877e-01  6.97451904e-02  9.52563286e-02\n",
      "   0.00000000e+00]\n",
      " [-7.54201412e-02 -6.26150489e-01 -4.78899442e-02 -9.57748294e-02\n",
      "   2.15272903e-02]\n",
      " [-4.40852493e-01  2.25402117e-02 -8.84267092e-01  6.79319501e-02\n",
      "   4.16333634e-16]\n",
      " [-9.83999074e-02 -8.41737092e-02  9.06050205e-04  6.60801306e-02\n",
      "   0.00000000e+00]\n",
      " [ 3.46578240e-01 -1.87914371e-02  2.25594729e-01  6.29634798e-01\n",
      "   1.06582254e-01]\n",
      " [ 4.24875557e-01 -2.68631637e-01 -5.39839149e-01 -1.74361393e-01\n",
      "   2.84494650e-16]\n",
      " [ 1.41367376e-01 -1.11494251e-02 -7.54934549e-03 -6.72180802e-02\n",
      "   0.00000000e+00]\n",
      " [-3.76805216e-02  2.14710355e-01  2.59521604e-01 -8.31881285e-01\n",
      "  -2.01558918e-01]\n",
      " [ 1.45678625e-01  4.29621041e-01  9.38411951e-01 -1.33449078e-01\n",
      "   2.49800181e-16]\n",
      " [ 6.40853718e-02  2.85692215e-02  3.89458299e-01 -4.54121456e-02\n",
      "   0.00000000e+00]\n",
      " [-8.71943533e-01  3.93032432e-02  4.35237288e-02 -6.64398432e-01\n",
      "   7.89107740e-01]\n",
      " [ 3.40178162e-01  1.67207980e+00  9.03838634e-01  1.93368301e-01\n",
      "   6.10622664e-16]\n",
      " [ 1.77877113e-01 -8.64581764e-02  4.96691108e-01 -6.16175681e-02\n",
      "   0.00000000e+00]\n",
      " [ 2.63121188e-01  5.15062332e-01 -2.69108325e-01  1.09372139e-02\n",
      "  -2.52832115e-01]\n",
      " [-5.46724200e-01  9.09111381e-01  9.93671894e-01  3.04196298e-01\n",
      "  -5.55111512e-17]\n",
      " [ 4.20335829e-02 -2.23675277e-03 -4.75395620e-02 -9.87463668e-02\n",
      "   0.00000000e+00]]\n"
     ]
    }
   ],
   "source": [
    "cfi_val_grad_jit = backend.jit(backend.value_and_grad(lambda params: -cfi(_params=params, _phi=phi)))\n",
    "val, grad = cfi_val_grad_jit(params)\n",
    "print(val, grad)"
   ]
  },
  {
   "cell_type": "code",
   "execution_count": null,
   "metadata": {
    "collapsed": false
   },
   "outputs": [],
   "source": [
    "opt = tc.backend.optimizer(optax.adagrad(learning_rate=0.2))\n",
    "params = backend.implicit_randn([3 * n, k+1])\n",
    "\n",
    "for i in range(250):\n",
    "    val, grad = cfi_val_grad_jit(params)\n",
    "    # print(grad)\n",
    "    params = opt.update(grad, params)\n",
    "    print(f\"Step {i} | CFI {val}\")\n",
    "    # print(params)"
   ]
  },
  {
   "cell_type": "code",
   "execution_count": null,
   "metadata": {
    "collapsed": false
   },
   "outputs": [],
   "source": []
  },
  {
   "cell_type": "markdown",
   "metadata": {
    "collapsed": false
   },
   "source": [
    "# Mixed CFI"
   ]
  },
  {
   "cell_type": "code",
   "execution_count": null,
   "metadata": {
    "collapsed": false
   },
   "outputs": [],
   "source": [
    "n = 4\n",
    "k = 4\n",
    "\n",
    "\n",
    "def sensor(params, phi, gamma):\n",
    "    dmc = tc.DMCircuit(n)\n",
    "\n",
    "    for i in range(k):\n",
    "        for j in range(n):\n",
    "            dmc.r(j, theta=params[3 * j, i], alpha=params[3 * j + 1, i], phi=params[3 * j + 2, i])\n",
    "\n",
    "        for j in range(1, n):\n",
    "            dmc.cnot(j - 1, j)\n",
    "\n",
    "        for j in range(n):\n",
    "            dmc.phasedamping(j, gamma=gamma[0])\n",
    "\n",
    "    for j in range(n):\n",
    "        dmc.r(j, theta=params[3 * j, i], alpha=params[3 * j + 1, i], phi=params[3 * j + 2, i])\n",
    "\n",
    "    # interaction\n",
    "    for j in range(n):\n",
    "        dmc.rz(j, theta=phi[0])\n",
    "\n",
    "    # measurement\n",
    "    for j in range(n):\n",
    "        dmc.u(j, theta=params[3 * j, -1], phi=params[3 * j + 1, -1])\n",
    "\n",
    "    return dmc\n",
    "\n",
    "\n",
    "phi = np.array([1.12314])\n",
    "gamma = np.array([0.0])\n",
    "params = backend.implicit_randn([3 * n, k + 1])\n",
    "\n",
    "dmc = sensor(params, phi, gamma)\n",
    "\n",
    "\n",
    "def cfi(_params, _phi, _gamma):\n",
    "    def probs(_params, _phi, _gamma):\n",
    "        return backend.abs(backend.diagonal(sensor(_params, _phi, _gamma).densitymatrix()))\n",
    "\n",
    "    pr = probs(_params, _phi, _gamma)\n",
    "    dpr_phi = backend.jacrev(lambda _phi: probs(_params=_params, _phi=_phi, _gamma=_gamma))\n",
    "    d_pr = dpr_phi(phi).squeeze()\n",
    "    fim = backend.sum(d_pr * d_pr / pr)\n",
    "    return fim\n",
    "\n",
    "print(cfi(params, phi, gamma))\n",
    "\n",
    "def neg_cfi(_params, _phi, _gamma):\n",
    "    return -cfi(_params, _phi, _gamma)"
   ]
  },
  {
   "cell_type": "code",
   "execution_count": null,
   "metadata": {
    "collapsed": false
   },
   "outputs": [],
   "source": [
    "dmc.draw(output=\"text\")"
   ]
  },
  {
   "cell_type": "code",
   "execution_count": null,
   "metadata": {
    "collapsed": false
   },
   "outputs": [],
   "source": [
    "cfi_val_grad_jit = backend.jit(backend.value_and_grad(lambda params: -cfi(_params=params, _phi=phi)))\n",
    "\n",
    "# val, grad = cfi_val_grad_jit(params)\n",
    "# print(val, grad)"
   ]
  },
  {
   "cell_type": "code",
   "execution_count": null,
   "metadata": {
    "collapsed": false
   },
   "outputs": [],
   "source": [
    "opt = tc.backend.optimizer(optax.adagrad(learning_rate=0.2))\n",
    "params = backend.implicit_randn([3 * n, k + 1])\n",
    "\n",
    "for i in range(250):\n",
    "    val, grad = cfi_val_grad_jit(params)\n",
    "    # print(grad)\n",
    "    params = opt.update(grad, params)\n",
    "    print(f\"Step {i} | CFI {val}\")\n",
    "    # print(params)"
   ]
  },
  {
   "cell_type": "code",
   "execution_count": null,
   "metadata": {
    "collapsed": false
   },
   "outputs": [],
   "source": [
    "def optimal_information_under_dephasing(gamma):\n",
    "\n",
    "\n",
    "\n",
    "for gamma in np.linspace(0, 1, 10):\n"
   ]
  },
  {
   "cell_type": "code",
   "execution_count": null,
   "metadata": {
    "collapsed": false
   },
   "outputs": [],
   "source": [
    "import jax\n",
    "\n",
    "def func(a, b):\n",
    "    return a*a*b\n",
    "\n",
    "\n",
    "jax.jacrev(func, argnums=(0,))(0.1, 1.0)\n"
   ]
  },
  {
   "cell_type": "code",
   "execution_count": 13,
   "metadata": {
    "collapsed": false
   },
   "outputs": [
    {
     "name": "stdout",
     "output_type": "stream",
     "text": [
      "(Array([-0.84147098,  0.3825737 ], dtype=float64, weak_type=True), Array([0.       , 0.3825737], dtype=float64, weak_type=True), Array([0.       , 0.3825737], dtype=float64, weak_type=True))\n"
     ]
    }
   ],
   "source": [
    "params = backend.implicit_randn([3])\n",
    "def func(a, b, c):\n",
    "    dmc = tc.Circuit(1)\n",
    "    dmc.r(0, theta=a, alpha=b, phi=c)\n",
    "    return dmc.state()\n",
    "df = backend.jacrev(func, [0])\n",
    "print(df(1.0, 1.0, 1.0))"
   ]
  },
  {
   "cell_type": "code",
   "execution_count": null,
   "metadata": {
    "collapsed": false
   },
   "outputs": [],
   "source": []
  }
 ],
 "metadata": {
  "kernelspec": {
   "display_name": "e2e_queso",
   "language": "python",
   "name": "python3"
  },
  "language_info": {
   "codemirror_mode": {
    "name": "ipython",
    "version": 3
   },
   "file_extension": ".py",
   "mimetype": "text/x-python",
   "name": "python",
   "nbconvert_exporter": "python",
   "pygments_lexer": "ipython3",
   "version": "3.11.10"
  }
 },
 "nbformat": 4,
 "nbformat_minor": 0
}
