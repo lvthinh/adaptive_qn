{
 "cells": [
  {
   "cell_type": "markdown",
   "metadata": {},
   "source": [
    "# Sensors in `queso`\n",
    "\n",
    "Sensors describe the quantum system used for "
   ]
  },
  {
   "cell_type": "code",
   "execution_count": 2,
   "metadata": {},
   "outputs": [],
   "source": [
    "import jax\n",
    "from queso.sensors import Sensor"
   ]
  },
  {
   "cell_type": "code",
   "execution_count": 3,
   "metadata": {},
   "outputs": [
    {
     "data": {
      "text/html": [
       "<pre style=\"word-wrap: normal;white-space: pre;background: #fff0;line-height: 1.1;font-family: &quot;Courier New&quot;,Courier,monospace\">     ┌───────┐┌───────┐   ┌───────┐┌───────┐          ░ ┌───────┐ ░ ┌───┐ ░ \n",
       "q_0: ┤ Ry(0) ├┤ Rz(0) ├─■─┤ Ry(0) ├┤ Rz(0) ├──────────░─┤ Rz(0) ├─░─┤ r ├─░─\n",
       "     ├───────┤├───────┤ │ └───────┘├───────┤┌───────┐ ░ ├───────┤ ░ ├───┤ ░ \n",
       "q_1: ┤ Ry(0) ├┤ Rz(0) ├─■─────■────┤ Ry(0) ├┤ Rz(0) ├─░─┤ Rz(0) ├─░─┤ r ├─░─\n",
       "     ├───────┤├───────┤       │    ├───────┤├───────┤ ░ ├───────┤ ░ ├───┤ ░ \n",
       "q_2: ┤ Ry(0) ├┤ Rz(0) ├─■─────■────┤ Ry(0) ├┤ Rz(0) ├─░─┤ Rz(0) ├─░─┤ r ├─░─\n",
       "     ├───────┤├───────┤ │ ┌───────┐├───────┤└───────┘ ░ ├───────┤ ░ ├───┤ ░ \n",
       "q_3: ┤ Ry(0) ├┤ Rz(0) ├─■─┤ Ry(0) ├┤ Rz(0) ├──────────░─┤ Rz(0) ├─░─┤ r ├─░─\n",
       "     └───────┘└───────┘   └───────┘└───────┘          ░ └───────┘ ░ └───┘ ░ \n",
       "c: 4/═══════════════════════════════════════════════════════════════════════\n",
       "                                                                            </pre>"
      ],
      "text/plain": [
       "     ┌───────┐┌───────┐   ┌───────┐┌───────┐          ░ ┌───────┐ ░ ┌───┐ ░ \n",
       "q_0: ┤ Ry(0) ├┤ Rz(0) ├─■─┤ Ry(0) ├┤ Rz(0) ├──────────░─┤ Rz(0) ├─░─┤ r ├─░─\n",
       "     ├───────┤├───────┤ │ └───────┘├───────┤┌───────┐ ░ ├───────┤ ░ ├───┤ ░ \n",
       "q_1: ┤ Ry(0) ├┤ Rz(0) ├─■─────■────┤ Ry(0) ├┤ Rz(0) ├─░─┤ Rz(0) ├─░─┤ r ├─░─\n",
       "     ├───────┤├───────┤       │    ├───────┤├───────┤ ░ ├───────┤ ░ ├───┤ ░ \n",
       "q_2: ┤ Ry(0) ├┤ Rz(0) ├─■─────■────┤ Ry(0) ├┤ Rz(0) ├─░─┤ Rz(0) ├─░─┤ r ├─░─\n",
       "     ├───────┤├───────┤ │ ┌───────┐├───────┤└───────┘ ░ ├───────┤ ░ ├───┤ ░ \n",
       "q_3: ┤ Ry(0) ├┤ Rz(0) ├─■─┤ Ry(0) ├┤ Rz(0) ├──────────░─┤ Rz(0) ├─░─┤ r ├─░─\n",
       "     └───────┘└───────┘   └───────┘└───────┘          ░ └───────┘ ░ └───┘ ░ \n",
       "c: 4/═══════════════════════════════════════════════════════════════════════\n",
       "                                                                            "
      ]
     },
     "execution_count": 3,
     "metadata": {},
     "output_type": "execute_result"
    }
   ],
   "source": [
    "sensor = Sensor(\n",
    "    n=4, \n",
    "    k=1\n",
    ")\n",
    "\n",
    "theta, phi, mu = sensor.theta, sensor.phi, sensor.mu\n",
    "sensor.circuit(theta, phi, mu).draw()"
   ]
  },
  {
   "cell_type": "code",
   "execution_count": 4,
   "metadata": {},
   "outputs": [
    {
     "name": "stdout",
     "output_type": "stream",
     "text": [
      "The Quantum Fisher Information is 1.6647022049908502.\n",
      "The Classical Fisher Information is 0.2036461337570471.\n"
     ]
    }
   ],
   "source": [
    "theta, phi, mu = sensor.init_params()\n",
    "print(f\"The Quantum Fisher Information is {sensor.qfi(theta, phi)}.\")\n",
    "print(f\"The Classical Fisher Information is {sensor.cfi(theta, phi, mu)}.\")"
   ]
  },
  {
   "cell_type": "code",
   "execution_count": 5,
   "metadata": {},
   "outputs": [
    {
     "name": "stdout",
     "output_type": "stream",
     "text": [
      "[[0 0 0 0]\n",
      " [0 0 0 0]\n",
      " [0 0 0 1]\n",
      " [0 0 0 0]\n",
      " [0 0 1 0]\n",
      " [0 0 0 0]\n",
      " [0 0 0 0]\n",
      " [0 0 0 0]\n",
      " [1 0 0 0]\n",
      " [0 0 1 1]]\n"
     ]
    }
   ],
   "source": [
    "shots = sensor.sample(theta, phi, mu, n_shots=10).astype('int')\n",
    "print(shots)"
   ]
  },
  {
   "cell_type": "code",
   "execution_count": 6,
   "metadata": {},
   "outputs": [],
   "source": [
    "probs = sensor.probs(theta, phi, mu)\n",
    "freqs = sensor.sample(theta, phi, mu, n_shots=10)"
   ]
  },
  {
   "cell_type": "code",
   "execution_count": 7,
   "metadata": {},
   "outputs": [
    {
     "name": "stdout",
     "output_type": "stream",
     "text": [
      "[4.18702184e-01 3.98740022e-02 1.82440785e-01 1.64918226e-02\n",
      " 9.83015676e-02 9.71855482e-03 5.06241333e-03 3.56040075e-04\n",
      " 1.43324870e-01 1.38016755e-02 5.28576493e-02 4.76418711e-03\n",
      " 1.07277679e-02 9.82215309e-04 2.40253500e-03 1.91729826e-04]\n"
     ]
    }
   ],
   "source": [
    "print(probs)"
   ]
  },
  {
   "cell_type": "code",
   "execution_count": 8,
   "metadata": {},
   "outputs": [
    {
     "name": "stdout",
     "output_type": "stream",
     "text": [
      "[[False False  True False]\n",
      " [False False False False]\n",
      " [False False  True False]\n",
      " [False  True False False]\n",
      " [ True False False False]\n",
      " [ True  True False False]\n",
      " [ True False  True False]\n",
      " [False False False False]\n",
      " [False  True False False]\n",
      " [False False False False]]\n"
     ]
    }
   ],
   "source": [
    "print(freqs)"
   ]
  }
 ],
 "metadata": {
  "kernelspec": {
   "display_name": "e2e_queso",
   "language": "python",
   "name": "python3"
  },
  "language_info": {
   "codemirror_mode": {
    "name": "ipython",
    "version": 3
   },
   "file_extension": ".py",
   "mimetype": "text/x-python",
   "name": "python",
   "nbconvert_exporter": "python",
   "pygments_lexer": "ipython3",
   "version": "3.11.10"
  }
 },
 "nbformat": 4,
 "nbformat_minor": 2
}
